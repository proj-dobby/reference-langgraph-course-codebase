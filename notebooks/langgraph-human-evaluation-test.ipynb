{
 "cells": [
  {
   "cell_type": "code",
   "execution_count": 1,
   "id": "cffed771",
   "metadata": {},
   "outputs": [
    {
     "data": {
      "text/plain": [
       "True"
      ]
     },
     "execution_count": 1,
     "metadata": {},
     "output_type": "execute_result"
    }
   ],
   "source": [
    "from dotenv import load_dotenv\n",
    "load_dotenv(\"../.env\", override=True)"
   ]
  },
  {
   "cell_type": "code",
   "execution_count": 2,
   "id": "3ba5e219",
   "metadata": {},
   "outputs": [],
   "source": [
    "from langchain.chat_models import init_chat_model\n",
    "llm = init_chat_model(\"openai:gpt-4.1\", temperature=0)"
   ]
  },
  {
   "cell_type": "code",
   "execution_count": 3,
   "id": "aef90acc",
   "metadata": {},
   "outputs": [],
   "source": [
    "from langchain.tools import tool\n",
    "\n",
    "@tool\n",
    "def write_email(to: str, subject: str, content: str) -> str:\n",
    "    \"\"\"Write and send an email.\"\"\"\n",
    "    # Placeholder response - in real app would send email\n",
    "    return f\"Email sent to {to} with subject '{subject}' and content: {content}\""
   ]
  },
  {
   "cell_type": "code",
   "execution_count": 4,
   "id": "ecc050e7",
   "metadata": {},
   "outputs": [],
   "source": [
    "# Connect tools to a chat model\n",
    "model_with_tools = llm.bind_tools([write_email], tool_choice=\"any\", parallel_tool_calls=False)"
   ]
  },
  {
   "cell_type": "code",
   "execution_count": 99,
   "id": "e1fbdf6c",
   "metadata": {},
   "outputs": [
    {
     "data": {
      "text/plain": [
       "<langgraph.graph.state.StateGraph at 0x119e6aed0>"
      ]
     },
     "execution_count": 99,
     "metadata": {},
     "output_type": "execute_result"
    }
   ],
   "source": [
    "from typing import Literal, TypedDict\n",
    "from langgraph.graph import StateGraph, START, END\n",
    "from langgraph.graph import MessagesState\n",
    "from email_assistant.utils import show_graph\n",
    "from langgraph.types import Command, interrupt\n",
    "from langgraph.checkpoint.memory import InMemorySaver\n",
    "from langchain_core.messages import ToolMessage, HumanMessage\n",
    "\n",
    "\n",
    "def call_llm(state: MessagesState) -> MessagesState:\n",
    "    \"\"\"Run LLM\"\"\"\n",
    "\n",
    "    output = model_with_tools.invoke(state[\"messages\"])\n",
    "    return {\"messages\": [output]}\n",
    "\n",
    "def human_feedback(state: MessagesState) -> MessagesState:\n",
    "    \"\"\"Get human feedback before proceeding further\"\"\"\n",
    "    feedback = interrupt(\"Please provide feedback: (Go Ahead/Describe Your Input)\")\n",
    "    messages = [\n",
    "        HumanMessage(content=f\"HUMAN FEEDBACK: {feedback}\")\n",
    "    ]\n",
    "    return {\"messages\": messages}\n",
    "\n",
    "def run_tool(state: MessagesState):\n",
    "    \"\"\"Performs the tool call\"\"\"\n",
    "\n",
    "    result = []\n",
    "    for tool_call in state[\"messages\"][-2].tool_calls:\n",
    "        observation = write_email.invoke(tool_call[\"args\"])\n",
    "        result.append(ToolMessage(content=observation, tool_call_id=tool_call[\"id\"]))\n",
    "    return {\"messages\": result}\n",
    "\n",
    "def human_feedback_evaluator(state: MessagesState) -> Literal[\"run_tool\", \"call_llm\"]:\n",
    "    \"\"\"Route to tool handler, or Go back to LLM call\"\"\"\n",
    "    \n",
    "    # Get the last message\n",
    "    messages = state[\"messages\"]\n",
    "    last_message = messages[-1]\n",
    "    \n",
    "    # If the last message is a tool call, check if it's a Done tool call\n",
    "    if 'GO AHEAD' in last_message.content.upper():\n",
    "        return \"run_tool\"\n",
    "    # Otherwise, we stop (reply to the user)\n",
    "    # We are patching the last AIMessage from Tool_Call to Normal Message\n",
    "    state[\"messages\"][-2].content = \"Email Body:\" + state[\"messages\"][-2].tool_calls[-1]['args']['content']\n",
    "    state[\"messages\"][-2].tool_calls = None\n",
    "    state[\"messages\"][-2].additional_kwargs = dict()\n",
    "    return \"call_llm\"\n",
    "\n",
    "\n",
    "workflow = StateGraph(MessagesState)\n",
    "workflow.add_node(\"call_llm\", call_llm)\n",
    "workflow.add_node(\"run_tool\", run_tool)\n",
    "workflow.add_node(\"human_feedback\", human_feedback)\n",
    "workflow.add_edge(START, \"call_llm\")\n",
    "workflow.add_edge(\"call_llm\", \"human_feedback\")\n",
    "workflow.add_conditional_edges(\"human_feedback\", human_feedback_evaluator, {\"run_tool\": \"run_tool\", \"call_llm\": \"call_llm\", END: END})\n",
    "workflow.add_edge(\"run_tool\", END)\n"
   ]
  },
  {
   "cell_type": "code",
   "execution_count": 100,
   "id": "619c09af",
   "metadata": {},
   "outputs": [],
   "source": [
    "# Run the workflow\n",
    "\n",
    "memory = InMemorySaver()\n",
    "app = workflow.compile(checkpointer=memory)\n",
    "# show_graph(app)"
   ]
  },
  {
   "cell_type": "code",
   "execution_count": 101,
   "id": "7ee56817",
   "metadata": {},
   "outputs": [
    {
     "name": "stdout",
     "output_type": "stream",
     "text": [
      "==================================\u001b[1m Ai Message \u001b[0m==================================\n",
      "Tool Calls:\n",
      "  write_email (call_iErDk2x1RASAzmyTHY7553cx)\n",
      " Call ID: call_iErDk2x1RASAzmyTHY7553cx\n",
      "  Args:\n",
      "    to: boss@company.ai\n",
      "    subject: Confirmation: Attendance at Interrupt!\n",
      "    content: Hi,\n",
      "\n",
      "Thank you for letting me know about Interrupt! I would like to confirm that I am interested in attending the event.\n",
      "\n",
      "Please let me know if there are any next steps or additional details I should be aware of.\n",
      "\n",
      "Best regards,\n",
      "\n",
      "[Your Name]\n",
      "================================== Human Feedback Required ==================================\n",
      "Please provide feedback: (Go Ahead/Describe Your Input)\n"
     ]
    }
   ],
   "source": [
    "\n",
    "\n",
    "# Input\n",
    "initial_input = {\n",
    "    \"messages\": [\n",
    "        {\n",
    "            \"role\": \"user\"\n",
    "            , \"content\": \"Draft a response to my boss (boss@company.ai) confirming that I want to attend Interrupt!\"\n",
    "        }\n",
    "    ]\n",
    "}\n",
    "\n",
    "# Thread\n",
    "thread = {\"configurable\": {\"thread_id\": \"1\"}}\n",
    "\n",
    "# Run the graph until the first interruption\n",
    "for event in app.stream(initial_input, thread, stream_mode=\"updates\"):\n",
    "    if list(event.keys())[0] in ['call_llm', 'run_tool']:\n",
    "        for m in event[list(event.keys())[0]]['messages']:\n",
    "            m.pretty_print()\n",
    "    elif list(event.keys())[0] == '__interrupt__':\n",
    "        print(\"================================== Human Feedback Required ==================================\")\n",
    "        print(event['__interrupt__'][0].value)"
   ]
  },
  {
   "cell_type": "code",
   "execution_count": 102,
   "id": "efdf6c78",
   "metadata": {},
   "outputs": [
    {
     "name": "stdout",
     "output_type": "stream",
     "text": [
      "==================================\u001b[1m Ai Message \u001b[0m==================================\n",
      "Tool Calls:\n",
      "  write_email (call_xiQ8lJMYPziDR7xzSegObe5N)\n",
      " Call ID: call_xiQ8lJMYPziDR7xzSegObe5N\n",
      "  Args:\n",
      "    to: boss@company.ai\n",
      "    subject: Confirmation: Attendance at Interrupt!\n",
      "    content: Hi,\n",
      "\n",
      "Thank you for considering me for Interrupt! I am excited about the opportunity and would like to confirm my interest in attending the event. I believe it will be a great chance to learn, network, and bring back valuable insights to our team.\n",
      "\n",
      "Please let me know if there are any preparations I should make or any specific sessions you recommend I focus on. I am looking forward to representing our team and making the most of this experience.\n",
      "\n",
      "Thanks again for the opportunity.\n",
      "\n",
      "Best regards,\n",
      "\n",
      "[Your Name]\n",
      "================================== Human Feedback Required ==================================\n",
      "Please provide feedback: (Go Ahead/Describe Your Input)\n"
     ]
    }
   ],
   "source": [
    "for event in app.stream(Command(resume=\"Elaborate the mail body a little more\"), thread, stream_mode=\"updates\"):\n",
    "    if list(event.keys())[0] in ['call_llm', 'run_tool']:\n",
    "        for m in event[list(event.keys())[0]]['messages']:\n",
    "            m.pretty_print()\n",
    "    elif list(event.keys())[0] == '__interrupt__':\n",
    "        print(\"================================== Human Feedback Required ==================================\")\n",
    "        print(event['__interrupt__'][0].value)"
   ]
  },
  {
   "cell_type": "code",
   "execution_count": 104,
   "id": "2c681f96",
   "metadata": {},
   "outputs": [
    {
     "name": "stdout",
     "output_type": "stream",
     "text": [
      "==================================\u001b[1m Ai Message \u001b[0m==================================\n",
      "Tool Calls:\n",
      "  write_email (call_MZbQbGUPP1gAXNJxtMD8jr5U)\n",
      " Call ID: call_MZbQbGUPP1gAXNJxtMD8jr5U\n",
      "  Args:\n",
      "    to: boss@company.ai\n",
      "    subject: Confirmation: Attendance at Interrupt!\n",
      "    content: Dear [Boss's Name],\n",
      "\n",
      "Thank you for considering me for the opportunity to attend Interrupt! I am writing to formally confirm my interest in participating in the event. I am confident that attending will provide valuable insights and learning opportunities that can benefit our team and contribute to our ongoing projects.\n",
      "\n",
      "Please let me know if there are any specific sessions or topics you would like me to focus on, or if there are any preparations required ahead of the event. I look forward to representing our team and sharing key takeaways upon my return.\n",
      "\n",
      "Thank you once again for this opportunity.\n",
      "\n",
      "Best regards,\n",
      "\n",
      "[Your Name]\n",
      "================================== Human Feedback Required ==================================\n",
      "Please provide feedback: (Go Ahead/Describe Your Input)\n"
     ]
    }
   ],
   "source": [
    "for event in app.stream(Command(resume=\"Make the tone a little more professional\"), thread, stream_mode=\"updates\"):\n",
    "    if list(event.keys())[0] in ['call_llm', 'run_tool']:\n",
    "        for m in event[list(event.keys())[0]]['messages']:\n",
    "            m.pretty_print()\n",
    "    elif list(event.keys())[0] == '__interrupt__':\n",
    "        print(\"================================== Human Feedback Required ==================================\")\n",
    "        print(event['__interrupt__'][0].value)"
   ]
  },
  {
   "cell_type": "code",
   "execution_count": 105,
   "id": "97a27efd",
   "metadata": {},
   "outputs": [
    {
     "name": "stdout",
     "output_type": "stream",
     "text": [
      "{'human_feedback': {'messages': [HumanMessage(content='HUMAN FEEDBACK: That looks good, Go Ahead', additional_kwargs={}, response_metadata={}, id='8fa809aa-e66a-4f56-b912-92bf2ec37473')]}}\n",
      "{'run_tool': {'messages': [ToolMessage(content=\"Email sent to boss@company.ai with subject 'Confirmation: Attendance at Interrupt!' and content: Dear [Boss's Name],\\n\\nThank you for considering me for the opportunity to attend Interrupt! I am writing to formally confirm my interest in participating in the event. I am confident that attending will provide valuable insights and learning opportunities that can benefit our team and contribute to our ongoing projects.\\n\\nPlease let me know if there are any specific sessions or topics you would like me to focus on, or if there are any preparations required ahead of the event. I look forward to representing our team and sharing key takeaways upon my return.\\n\\nThank you once again for this opportunity.\\n\\nBest regards,\\n\\n[Your Name]\", id='ab1c93ce-0eb0-44fe-ae99-31b694bc17df', tool_call_id='call_MZbQbGUPP1gAXNJxtMD8jr5U')]}}\n",
      "=================================\u001b[1m Tool Message \u001b[0m=================================\n",
      "\n",
      "Email sent to boss@company.ai with subject 'Confirmation: Attendance at Interrupt!' and content: Dear [Boss's Name],\n",
      "\n",
      "Thank you for considering me for the opportunity to attend Interrupt! I am writing to formally confirm my interest in participating in the event. I am confident that attending will provide valuable insights and learning opportunities that can benefit our team and contribute to our ongoing projects.\n",
      "\n",
      "Please let me know if there are any specific sessions or topics you would like me to focus on, or if there are any preparations required ahead of the event. I look forward to representing our team and sharing key takeaways upon my return.\n",
      "\n",
      "Thank you once again for this opportunity.\n",
      "\n",
      "Best regards,\n",
      "\n",
      "[Your Name]\n"
     ]
    }
   ],
   "source": [
    "for event in app.stream(Command(resume=\"That looks good, Go Ahead\"), thread, stream_mode=\"updates\"):\n",
    "    print(event)\n",
    "    if list(event.keys())[0] in ['call_llm', 'run_tool']:\n",
    "        for m in event[list(event.keys())[0]]['messages']:\n",
    "            m.pretty_print()\n",
    "    elif list(event.keys())[0] == '__interrupt__':\n",
    "        print(\"================================== Human Feedback Required ==================================\")\n",
    "        print(event['__interrupt__'][0].value)"
   ]
  },
  {
   "cell_type": "code",
   "execution_count": null,
   "id": "ed0aadbc",
   "metadata": {},
   "outputs": [],
   "source": []
  }
 ],
 "metadata": {
  "kernelspec": {
   "display_name": "agents-from-scratch",
   "language": "python",
   "name": "python3"
  },
  "language_info": {
   "codemirror_mode": {
    "name": "ipython",
    "version": 3
   },
   "file_extension": ".py",
   "mimetype": "text/x-python",
   "name": "python",
   "nbconvert_exporter": "python",
   "pygments_lexer": "ipython3",
   "version": "3.13.3"
  }
 },
 "nbformat": 4,
 "nbformat_minor": 5
}
